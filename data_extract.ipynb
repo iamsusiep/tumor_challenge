{
  "nbformat": 4,
  "nbformat_minor": 0,
  "metadata": {
    "colab": {
      "name": "data_extract.ipynb",
      "version": "0.3.2",
      "provenance": [],
      "collapsed_sections": []
    },
    "kernelspec": {
      "display_name": "Python 2",
      "name": "python2"
    },
    "accelerator": "GPU"
  },
  "cells": [
    {
      "cell_type": "code",
      "metadata": {
        "colab_type": "code",
        "id": "HJ_T09jo5rxS",
        "outputId": "07230a3b-bbeb-44f7-80cf-b8612634c1b8",
        "colab": {
          "base_uri": "https://localhost:8080/",
          "height": 717
        }
      },
      "source": [
        " # Install the OpenSlide C library and Python bindings\n",
        "!apt-get install openslide-tools\n",
        "!pip install openslide-python"
      ],
      "execution_count": 0,
      "outputs": [
        {
          "output_type": "stream",
          "text": [
            "Reading package lists... Done\n",
            "Building dependency tree       \n",
            "Reading state information... Done\n",
            "The following package was automatically installed and is no longer required:\n",
            "  libnvidia-common-410\n",
            "Use 'apt autoremove' to remove it.\n",
            "The following additional packages will be installed:\n",
            "  libopenslide0\n",
            "Suggested packages:\n",
            "  libtiff-tools\n",
            "The following NEW packages will be installed:\n",
            "  libopenslide0 openslide-tools\n",
            "0 upgraded, 2 newly installed, 0 to remove and 7 not upgraded.\n",
            "Need to get 92.5 kB of archives.\n",
            "After this operation, 268 kB of additional disk space will be used.\n",
            "Get:1 http://archive.ubuntu.com/ubuntu bionic/universe amd64 libopenslide0 amd64 3.4.1+dfsg-2 [79.8 kB]\n",
            "Get:2 http://archive.ubuntu.com/ubuntu bionic/universe amd64 openslide-tools amd64 3.4.1+dfsg-2 [12.7 kB]\n",
            "Fetched 92.5 kB in 0s (1,128 kB/s)\n",
            "Selecting previously unselected package libopenslide0.\n",
            "(Reading database ... 130824 files and directories currently installed.)\n",
            "Preparing to unpack .../libopenslide0_3.4.1+dfsg-2_amd64.deb ...\n",
            "Unpacking libopenslide0 (3.4.1+dfsg-2) ...\n",
            "Selecting previously unselected package openslide-tools.\n",
            "Preparing to unpack .../openslide-tools_3.4.1+dfsg-2_amd64.deb ...\n",
            "Unpacking openslide-tools (3.4.1+dfsg-2) ...\n",
            "Setting up libopenslide0 (3.4.1+dfsg-2) ...\n",
            "Processing triggers for libc-bin (2.27-3ubuntu1) ...\n",
            "Setting up openslide-tools (3.4.1+dfsg-2) ...\n",
            "Processing triggers for man-db (2.8.3-2ubuntu0.1) ...\n",
            "Collecting openslide-python\n",
            "\u001b[?25l  Downloading https://files.pythonhosted.org/packages/26/5a/5b0adeabce81f018a9e4ffe9a419536064bc95c1b12194aff9b7e48f91f7/openslide-python-1.1.1.tar.gz (312kB)\n",
            "\u001b[K     |████████████████████████████████| 317kB 9.5MB/s \n",
            "\u001b[?25hRequirement already satisfied: Pillow in /usr/local/lib/python2.7/dist-packages (from openslide-python) (4.3.0)\n",
            "Requirement already satisfied: olefile in /usr/local/lib/python2.7/dist-packages (from Pillow->openslide-python) (0.46)\n",
            "Building wheels for collected packages: openslide-python\n",
            "  Building wheel for openslide-python (setup.py) ... \u001b[?25l\u001b[?25hdone\n",
            "  Stored in directory: /root/.cache/pip/wheels/56/44/7e/16c9fc72cfbf1bffe48676b6835843d21abcc56566e958e7d6\n",
            "Successfully built openslide-python\n",
            "Installing collected packages: openslide-python\n",
            "Successfully installed openslide-python-1.1.1\n"
          ],
          "name": "stdout"
        }
      ]
    },
    {
      "cell_type": "code",
      "metadata": {
        "colab_type": "code",
        "id": "Ws_fS_f13WUd",
        "colab": {}
      },
      "source": [
        "%matplotlib inline\n",
        "import matplotlib.pyplot as plt\n",
        "import os\n",
        "import random\n",
        "import numpy as np\n",
        "from openslide import open_slide, __library_version__ as openslide_version\n",
        "from PIL import Image\n",
        "from skimage.color import rgb2gray"
      ],
      "execution_count": 0,
      "outputs": []
    },
    {
      "cell_type": "code",
      "metadata": {
        "colab_type": "code",
        "id": "_pUuXanl3WUg",
        "outputId": "ac3c94c4-5ad4-401a-a496-8fe21b7f3251",
        "colab": {
          "base_uri": "https://localhost:8080/",
          "height": 122
        }
      },
      "source": [
        "from google.colab import drive\n",
        "import os\n",
        "\n",
        "drive.mount('/content/gdrive')\n",
        "os.chdir('gdrive/My Drive/Colab Notebooks')"
      ],
      "execution_count": 0,
      "outputs": [
        {
          "output_type": "stream",
          "text": [
            "Go to this URL in a browser: https://accounts.google.com/o/oauth2/auth?client_id=947318989803-6bn6qk8qdgf4n4g3pfee6491hc0brc4i.apps.googleusercontent.com&redirect_uri=urn%3Aietf%3Awg%3Aoauth%3A2.0%3Aoob&scope=email%20https%3A%2F%2Fwww.googleapis.com%2Fauth%2Fdocs.test%20https%3A%2F%2Fwww.googleapis.com%2Fauth%2Fdrive%20https%3A%2F%2Fwww.googleapis.com%2Fauth%2Fdrive.photos.readonly%20https%3A%2F%2Fwww.googleapis.com%2Fauth%2Fpeopleapi.readonly&response_type=code\n",
            "\n",
            "Enter your authorization code:\n",
            "··········\n",
            "Mounted at /content/gdrive\n"
          ],
          "name": "stdout"
        }
      ]
    },
    {
      "cell_type": "markdown",
      "metadata": {
        "colab_type": "text",
        "id": "Bzpo8de587ju"
      },
      "source": [
        "#Processing Data\n",
        "\n",
        "\n"
      ]
    },
    {
      "cell_type": "markdown",
      "metadata": {
        "colab_type": "text",
        "id": "kxDF0CN0jzyU"
      },
      "source": [
        "\n",
        "## Splitting Slides into Train/Validation/Testing"
      ]
    },
    {
      "cell_type": "code",
      "metadata": {
        "colab_type": "code",
        "id": "20nlg9j8heI_",
        "outputId": "09abffd7-55d3-4d54-95b4-2ecded4c1caf",
        "colab": {
          "base_uri": "https://localhost:8080/",
          "height": 54
        }
      },
      "source": [
        "from os import listdir\n",
        "from os.path import isfile, join\n",
        "import os.path\n",
        "\n",
        "images = []\n",
        "mypath = \"./slides\"\n",
        "\n",
        "onlyfiles = [f for f in listdir(mypath) if isfile(join(mypath, f))]\n",
        "for fn in onlyfiles:\n",
        "  if (os.path.splitext(fn)[0] not in images) and ('mask' not in os.path.splitext(fn)[0]):\n",
        "    images.append(os.path.splitext(fn)[0])\n",
        "\n",
        "# remove unusual tumor images\n",
        "images.remove(\"tumor_038\")\n",
        "images.remove(\"tumor_038 (1)\")\n",
        "images.remove(\"tumor_099\")\n",
        "print(images)\n"
      ],
      "execution_count": 0,
      "outputs": [
        {
          "output_type": "stream",
          "text": [
            "['tumor_091', 'tumor_001', 'tumor_002', 'tumor_005', 'tumor_012', 'tumor_016', 'tumor_059', 'tumor_075', 'tumor_023', 'tumor_057', 'tumor_035', 'tumor_019', 'tumor_081', 'tumor_084', 'tumor_094', 'tumor_110', 'tumor_096', 'tumor_101', 'tumor_031', 'tumor_064', 'tumor_078']\n"
          ],
          "name": "stdout"
        }
      ]
    },
    {
      "cell_type": "code",
      "metadata": {
        "colab_type": "code",
        "id": "FSuqos_Nh4Zy",
        "outputId": "df152f28-b3dc-4d2e-bf28-ddc5fe5a0fa4",
        "colab": {
          "base_uri": "https://localhost:8080/",
          "height": 34
        }
      },
      "source": [
        "print(\"Number of slides: %d\" %(len(images)))"
      ],
      "execution_count": 0,
      "outputs": [
        {
          "output_type": "stream",
          "text": [
            "Number of slides: 21\n"
          ],
          "name": "stdout"
        }
      ]
    },
    {
      "cell_type": "code",
      "metadata": {
        "colab_type": "code",
        "id": "UTslIrWch5ok",
        "outputId": "17c91fb8-ff80-4910-c332-66b0ed56051f",
        "colab": {
          "base_uri": "https://localhost:8080/",
          "height": 34
        }
      },
      "source": [
        "import random \n",
        "\n",
        "random.seed(1)\n",
        "random.shuffle(images)\n",
        "\n",
        "train_data = images[:15]\n",
        "val_data = images[15:18]\n",
        "test_data = images[18:21]\n",
        "print(\"#train: %d, #validation: %d, #test: %d\" %(len(train_data), len(val_data), len(test_data)))"
      ],
      "execution_count": 0,
      "outputs": [
        {
          "output_type": "stream",
          "text": [
            "#train: 15, #validation: 3, #test: 3\n"
          ],
          "name": "stdout"
        }
      ]
    },
    {
      "cell_type": "code",
      "metadata": {
        "colab_type": "code",
        "id": "5ssRtSx_ZAud",
        "outputId": "db3f2419-cbc3-4652-face-d3173e85e269",
        "colab": {
          "base_uri": "https://localhost:8080/",
          "height": 34
        }
      },
      "source": [
        "# create directories\n",
        "\n",
        "import os \n",
        "# !rm -rf data1/\n",
        "!rm -rf data/\n",
        "def create_level_dir(dir_name):\n",
        "  z1_dir = os.path.join(dir_name, 'z5')\n",
        "  z2_dir = os.path.join(dir_name, 'z4')\n",
        "  z3_dir = os.path.join(dir_name, 'z3')\n",
        "  z4_dir = os.path.join(dir_name, 'z2')\n",
        "  z5_dir = os.path.join(dir_name, 'z1')\n",
        "  \n",
        "  os.mkdir(z1_dir)\n",
        "  os.mkdir(z2_dir)\n",
        "  os.mkdir(z3_dir)\n",
        "  os.mkdir(z4_dir)\n",
        "  os.mkdir(z5_dir)\n",
        "  return z1_dir, z2_dir, z3_dir, z4_dir, z5_dir\n",
        "  \n",
        "def label_directory(dir_name):\n",
        "  z1_dir, z2_dir, z3_dir, z4_dir, z5_dir = create_level_dir(dir_name)\n",
        "  os.mkdir(os.path.join(z1_dir, 'tumor'))\n",
        "  os.mkdir(os.path.join(z1_dir, 'no_tumor'))\n",
        "  os.mkdir(os.path.join(z2_dir, 'tumor'))\n",
        "  os.mkdir(os.path.join(z2_dir, 'no_tumor'))\n",
        "  os.mkdir(os.path.join(z3_dir, 'tumor'))\n",
        "  os.mkdir(os.path.join(z3_dir, 'no_tumor'))\n",
        "  os.mkdir(os.path.join(z4_dir, 'tumor'))\n",
        "  os.mkdir(os.path.join(z4_dir, 'no_tumor'))\n",
        "  os.mkdir(os.path.join(z5_dir, 'tumor'))\n",
        "  os.mkdir(os.path.join(z5_dir, 'no_tumor'))\n",
        "  \n",
        "# base_dir = os.getcwd()\n",
        "# img_num = slide_path.split('_')[1].strip(\".tif\")\n",
        "\n",
        "base_dir = 'data/'\n",
        "train_dir = os.path.join(base_dir, 'train')\n",
        "val_dir =  os.path.join(base_dir, 'val') \n",
        "test_dir = os.path.join(base_dir, 'test') \n",
        "\n",
        "if not os.path.exists(base_dir):\n",
        "  os.mkdir(base_dir)\n",
        "  \n",
        "if not os.path.exists(train_dir):\n",
        "  os.mkdir(train_dir)\n",
        "  label_directory(train_dir)\n",
        "\n",
        "if not os.path.exists(val_dir):\n",
        "  os.mkdir(val_dir)\n",
        "  label_directory(val_dir)\n",
        "\n",
        "if not os.path.exists(test_dir):\n",
        "  os.mkdir(test_dir)\n",
        "  create_level_dir(test_dir)\n",
        "  \n",
        "print('train_dir: %s, test_dir: %s, val_dir: %s ' %(train_dir, test_dir, val_dir))"
      ],
      "execution_count": 0,
      "outputs": [
        {
          "output_type": "stream",
          "text": [
            "train_dir: data/train, test_dir: data/test, val_dir: data/val \n"
          ],
          "name": "stdout"
        }
      ]
    },
    {
      "cell_type": "markdown",
      "metadata": {
        "colab_type": "text",
        "id": "ponwPynBOZsk"
      },
      "source": [
        "## Classifying the Data by Labels"
      ]
    },
    {
      "cell_type": "code",
      "metadata": {
        "colab_type": "code",
        "id": "HpW9-YQeOds5",
        "colab": {}
      },
      "source": [
        "def read_slide(slide, x, y, level, width, height, as_float=False, mask=False):\n",
        "    im = slide.read_region((x,y), level, (width, height))\n",
        "    im = im.convert('RGB') # drop the alpha channel\n",
        "    if as_float:\n",
        "        im = np.asarray(im, dtype=np.float32)\n",
        "    else:\n",
        "        im = np.asarray(im)\n",
        "    assert im.shape == (height, width, 3)\n",
        "    return (im if not mask else im[:, :, 0])\n",
        "\n",
        "# overlaying a mask over image\n",
        "def apply_mask(im, mask):\n",
        "    masked =np.zeros_like(im)\n",
        "    for x,y in mask: \n",
        "      masked[x][y] = 1\n",
        "    return masked\n",
        "  \n",
        "# search for grey regions\n",
        "def find_tissue_pixels(image, intensity=0.8):\n",
        "    im_gray = rgb2gray(image)\n",
        "    assert im_gray.shape == (image.shape[0], image.shape[1])\n",
        "    indices = np.where(im_gray <= intensity)\n",
        "    return zip(indices[0], indices[1])"
      ],
      "execution_count": 0,
      "outputs": []
    },
    {
      "cell_type": "code",
      "metadata": {
        "colab_type": "code",
        "id": "VN3Ts51RAfWt",
        "colab": {}
      },
      "source": [
        "import math\n",
        "import cv2\n",
        "def preprocess(im_name, level, is_train = False, is_val = False, is_test = False):\n",
        "  # Process images of lower zoom level, which have memory issues if try to process whole slice\n",
        "  slide_path = os.path.join(mypath, im_name)+ \".tif\"\n",
        "  mask_path = os.path.join(mypath, im_name) + \"_mask.tif\"\n",
        "  slide = open_slide(slide_path)\n",
        "  tumor_mask = open_slide(mask_path)\n",
        "  x_dim = (slide.level_dimensions[level][0])\n",
        "  y_dim = (slide.level_dimensions[level][1])\n",
        "  \n",
        "  x_num= int(math.ceil(x_dim/ 299))\n",
        "  y_num = int(math.ceil(y_dim/299))\n",
        "  idx = 0\n",
        "  for i in range(x_num):\n",
        "    lower_x = i*299 * (2**level)\n",
        "    for j in range(y_num):\n",
        "      lower_y = j * 299 *(2**level)\n",
        "      img_window = read_slide(slide, \n",
        "                     x=lower_x, \n",
        "                     y=lower_y, \n",
        "                     level=level, \n",
        "                     width=299, \n",
        "                     height=299)\n",
        "      mask_window = read_slide(tumor_mask, \n",
        "                     x=lower_x, \n",
        "                     y=lower_y, \n",
        "                     level=level, \n",
        "                     width=299, \n",
        "                     height=299,\n",
        "                     mask = True)\n",
        "\n",
        "      tissue_pixels = find_tissue_pixels(img_window)\n",
        "      percent_tissue = len(tissue_pixels) / float(img_window.shape[0] * img_window.shape[0])\n",
        "      tissue_region = apply_mask(img_window, tissue_pixels)\n",
        "      tissue_threshold = .3\n",
        "\n",
        "      if is_test:\n",
        "        if percent_tissue> tissue_threshold:\n",
        "          try:\n",
        "            img_fn = 'level_'+str(level) +'_' + str(idx)\n",
        "            img_output_fn = \"data/test/z\"+ str(level)+\"/\"+ img_fn + \".jpg\" \n",
        "            cv2.imwrite(img_output_fn, img_window)\n",
        "            print(img_output_fn)\n",
        "          except:\n",
        "            pass\n",
        "      else:\n",
        "        if is_train:\n",
        "          dir_route = 'train'\n",
        "        if is_val:\n",
        "          dir_route = 'val'\n",
        "        if percent_tissue> tissue_threshold:\n",
        "          img_fn = 'level_'+str(level) +'_' + str(idx)\n",
        "          if np.max(mask_window) > 0:\n",
        "            img_output_fn = \"data/\" + dir_route + \"/z\" + str(level)+\"/tumor/\" + img_fn + \".jpg\" \n",
        "          else:\n",
        "            img_output_fn= \"data/\"+ dir_route + \"/z\" + str(level)+\"/no_tumor/\" + img_fn + \".jpg\"\n",
        "          print(img_output_fn)\n",
        "          cv2.imwrite(img_output_fn, img_window)\n",
        "      idx = idx+1"
      ],
      "execution_count": 0,
      "outputs": []
    },
    {
      "cell_type": "code",
      "metadata": {
        "colab_type": "code",
        "id": "vdiV_F3HS2YJ",
        "colab": {}
      },
      "source": [
        "levels = [5, 4, 3, 2, 1]\n",
        "# levels = [5, 4, 3, 2]\n",
        "\n",
        "for level in levels:\n",
        "  for val_fn in train_data:\n",
        "    preprocess(val_fn, level, is_train = True)\n",
        "  print(\"Done with zoom %d\" %level)\n",
        "  \n",
        "for level in levels:\n",
        "  for val_fn in val_data:\n",
        "    preprocess(val_fn, level, is_val = True)\n",
        "  print(\"Done with zoom %d\" %level)\n",
        "  \n",
        "for level in levels:\n",
        "  for val_fn in test_data:\n",
        "    preprocess(val_fn, level, is_test = True)\n",
        "  print(\"Done with zoom %d\" %level)"
      ],
      "execution_count": 0,
      "outputs": []
    },
    {
      "cell_type": "markdown",
      "metadata": {
        "colab_type": "text",
        "id": "nKybpc4PjoSP"
      },
      "source": [
        "## Count of Train/Test/Val Images"
      ]
    },
    {
      "cell_type": "code",
      "metadata": {
        "colab_type": "code",
        "id": "C433-cgLD_pY",
        "outputId": "452e1b10-03c1-493f-c077-ba1ca13bac82",
        "colab": {
          "base_uri": "https://localhost:8080/",
          "height": 357
        }
      },
      "source": [
        "\"\"\"\n",
        "I had to run zoom level 1 on local because colab crashed. \n",
        "Thus, the number of images in tumor/no_tumor for zoom level 1 is commented out.\n",
        "\"\"\"\n",
        "!find data/train/z5/tumor -type f | wc -l\n",
        "!find data/train/z5/no_tumor -type f | wc -l\n",
        "!find data/train/z4/tumor -type f | wc -l\n",
        "!find data/train/z4/no_tumor -type f | wc -l\n",
        "!find data/train/z3/tumor -type f | wc -l\n",
        "!find data/train/z3/no_tumor -type f | wc -l\n",
        "!find data/train/z2/tumor -type f | wc -l\n",
        "!find data/train/z2/no_tumor -type f | wc -l\n",
        "# !find data/train/z1/tumor -type f | wc -l\n",
        "# !find data/train/z1/no_tumor -type f | wc -l\n",
        "\n",
        "!find data/val/z5/tumor -type f | wc -l\n",
        "!find data/val/z5/no_tumor -type f | wc -l\n",
        "!find data/val/z4/tumor -type f | wc -l\n",
        "!find data/val/z4/no_tumor -type f | wc -l\n",
        "!find data/val/z3/tumor -type f | wc -l\n",
        "!find data/val/z3/no_tumor -type f | wc -l\n",
        "!find data/val/z2/tumor -type f | wc -l\n",
        "!find data/val/z2/no_tumor -type f | wc -l\n",
        "# !find data/val/z1/tumor -type f | wc -l\n",
        "# !find data/val/z1/no_tumor -type f | wc -l\n",
        "\n",
        "!find data/test/z5 -type f | wc -l\n",
        "!find data/test/z4 -type f | wc -l\n",
        "!find data/test/z3 -type f | wc -l\n",
        "!find data/test/z2 -type f | wc -l\n",
        "# !find data/test/z1 -type f | wc -l"
      ],
      "execution_count": 0,
      "outputs": [
        {
          "output_type": "stream",
          "text": [
            "74\n",
            "90\n",
            "227\n",
            "401\n",
            "703\n",
            "1605\n",
            "2376\n",
            "6770\n",
            "9\n",
            "37\n",
            "19\n",
            "141\n",
            "40\n",
            "541\n",
            "104\n",
            "2121\n",
            "60\n",
            "218\n",
            "828\n",
            "3149\n"
          ],
          "name": "stdout"
        }
      ]
    },
    {
      "cell_type": "markdown",
      "metadata": {
        "id": "nIMRJy1usjCF",
        "colab_type": "text"
      },
      "source": [
        "# Data Collection for Multi-zoom Level Training"
      ]
    },
    {
      "cell_type": "markdown",
      "metadata": {
        "id": "cHjFGOPhvhi1",
        "colab_type": "text"
      },
      "source": [
        "I ran the following code on local because there was a problem when reading the slides on google drive (because a lot of people were using them)"
      ]
    },
    {
      "cell_type": "code",
      "metadata": {
        "colab_type": "code",
        "id": "Zk2YVPBZCTMR",
        "colab": {}
      },
      "source": [
        "import random \n",
        "\n",
        "random.seed(1)\n",
        "random.shuffle(images)\n",
        "\n",
        "train_data = images[:17]\n",
        "val_data = images[17:]\n",
        "print(\"#train: %d, #validation: %d\" %(len(train_data), len(val_data)))"
      ],
      "execution_count": 0,
      "outputs": []
    },
    {
      "cell_type": "code",
      "metadata": {
        "id": "v7v8d1COs3bm",
        "colab_type": "code",
        "colab": {}
      },
      "source": [
        "# create directories\n",
        "\n",
        "import os \n",
        "!rm -rf data_zoom/\n",
        "\n",
        "def create_level_dir(dir_name):\n",
        "  z0_dir = os.path.join(dir_name, 'z3')\n",
        "  z1_dir = os.path.join(dir_name, 'z4')\n",
        "  os.mkdir(z0_dir)\n",
        "  os.mkdir(z1_dir)\n",
        "  return z0_dir, z1_dir\n",
        "  \n",
        "def label_directory(dir_name):\n",
        "  z0_dir, z1_dir = create_level_dir(dir_name)\n",
        "  os.mkdir(os.path.join(z0_dir, 'tumor'))\n",
        "  os.mkdir(os.path.join(z0_dir, 'no_tumor'))\n",
        "  os.mkdir(os.path.join(z1_dir, 'tumor'))\n",
        "  os.mkdir(os.path.join(z1_dir, 'no_tumor'))\n",
        "  \n",
        "\n",
        "base_dir = 'data_zoom'\n",
        "train_dir = os.path.join(base_dir, 'train')\n",
        "val_dir =  os.path.join(base_dir, 'val') \n",
        "\n",
        "if not os.path.exists(base_dir):\n",
        "  os.mkdir(base_dir)\n",
        "  \n",
        "if not os.path.exists(train_dir):\n",
        "  os.mkdir(train_dir)\n",
        "  label_directory(train_dir)\n",
        "\n",
        "if not os.path.exists(val_dir):\n",
        "  os.mkdir(val_dir)\n",
        "  label_directory(val_dir)\n",
        "\n",
        "print('train_dir: %s, val_dir: %s ' %(train_dir, val_dir))"
      ],
      "execution_count": 0,
      "outputs": []
    },
    {
      "cell_type": "code",
      "metadata": {
        "id": "AYUeL-MKtBQl",
        "colab_type": "code",
        "colab": {}
      },
      "source": [
        "def read_slide(slide, x, y, level, width, height, as_float=False, mask=False):\n",
        "    im = slide.read_region((x,y), level, (width, height))\n",
        "    im = im.convert('RGB') # drop the alpha channel\n",
        "    if as_float:\n",
        "        im = np.asarray(im, dtype=np.float32)\n",
        "    else:\n",
        "        im = np.asarray(im)\n",
        "    assert im.shape == (height, width, 3)\n",
        "    return (im if not mask else im[:, :, 0])\n",
        "\n",
        "# overlaying a mask over image\n",
        "def apply_mask(im, mask):\n",
        "    masked =np.zeros_like(im)\n",
        "    for x,y in mask: \n",
        "      masked[x][y] = 1\n",
        "    return masked\n",
        "  \n",
        "# search for grey regions\n",
        "def find_tissue_pixels(image, intensity=0.8):\n",
        "    im_gray = rgb2gray(image)\n",
        "    assert im_gray.shape == (image.shape[0], image.shape[1])\n",
        "    indices = np.where(im_gray <= intensity)\n",
        "    return list(zip(indices[0], indices[1]))"
      ],
      "execution_count": 0,
      "outputs": []
    },
    {
      "cell_type": "code",
      "metadata": {
        "id": "ZVUogm6QtDLN",
        "colab_type": "code",
        "colab": {}
      },
      "source": [
        "def get_patch_centered_at(im_slide, x, y, level):\n",
        "  # returns a 299 x 299 patch that is \n",
        "  # centered at (x, y) for specified zoom level\n",
        "  \n",
        "  downsamples = int(im_slide.level_downsamples[level])\n",
        "  x, y = int(x / downsamples), int(y / downsamples)\n",
        "  patch = np.zeros((299, 299, 3), dtype = int)\n",
        "  low_x, hi_x , low_y, hi_y = x - 150, x + 149, y - 150, y + 149\n",
        "  lowb_x, hib_x = max(0, low_x), min(im_slide.level_dimensions[level][0], hi_x)\n",
        "  lowb_y, hib_y = max(0, low_y), min(im_slide.level_dimensions[level][1], hi_y)\n",
        "  width = hib_x - lowb_x\n",
        "  height = hib_y - lowb_y\n",
        "  start_x, end_x = lowb_x - low_x, hib_x - low_x\n",
        "  start_y, end_y = lowb_y - low_y, hib_y - low_y\n",
        "  patch[start_x: end_x, start_y: end_y] = read_slide(im_slide, lowb_x * downsamples, lowb_y * downsamples, level, width=height, height=width)\n",
        "  return patch"
      ],
      "execution_count": 0,
      "outputs": []
    },
    {
      "cell_type": "code",
      "metadata": {
        "id": "6yDG4cX8tFqq",
        "colab_type": "code",
        "colab": {}
      },
      "source": [
        "import math\n",
        "import cv2\n",
        "base_dir = 'data_zoom'\n",
        "\n",
        "def preprocess(im_name, level, is_train = False, is_val = False, is_test = False):\n",
        "  # Process images of lower zoom level, which have memory issues if try to process whole slice\n",
        "  try:\n",
        "    slide_path = os.path.join(mypath, im_name)+ \".tif\"\n",
        "    mask_path = os.path.join(mypath, im_name) + \"_mask.tif\"\n",
        "    slide = open_slide(slide_path)\n",
        "    tumor_mask = open_slide(mask_path)\n",
        "    x_dim = (slide.level_dimensions[level][0]) #15360\n",
        "    y_dim = (slide.level_dimensions[level][1]) #13440\n",
        "  except OSError:\n",
        "    print(\"could not load %s\" %(im_name))\n",
        "  \n",
        "  x_num= int(math.ceil(x_dim/ 299))\n",
        "  y_num = int(math.ceil(y_dim/299))\n",
        "  idx = 0\n",
        "  print(\"loaded slide {}\".format(im_name))\n",
        "  for i in range(x_num):\n",
        "    center_x = (i*299 + 150) * (2**level)\n",
        "    for j in range(y_num):\n",
        "      \n",
        "      try:\n",
        "        center_y = (j * 299 + 150) *(2**level)\n",
        "\n",
        "        image0 = get_patch_centered_at(slide, center_x, center_y, level)\n",
        "        image1 = get_patch_centered_at(slide, center_x, center_y, level + 1)\n",
        "        mask = get_patch_centered_at(tumor_mask, center_x, center_y,  level)\n",
        "        \n",
        "        tissue_pixels = find_tissue_pixels(image1)\n",
        "        percent_tissue = len(tissue_pixels) / float(image0.shape[0] * image0.shape[0])\n",
        "        tissue_threshold = 0.5\n",
        "\n",
        "        if percent_tissue> tissue_threshold:\n",
        "          img_fn = \"{0}_{1}\".format(im_name, idx)\n",
        "          dir_route = 'train' if is_train else 'val'\n",
        "          label = 'tumor' if np.max(mask) > 0 else 'no_tumor'\n",
        "          img_output_fn1 = \"%s/%s/z%s/%s/%s.jpg\" %(base_dir, dir_route, str(level), label, img_fn)\n",
        "          img_output_fn2 = \"%s/%s/z%s/%s/%s.jpg\" %(base_dir, dir_route, str(level + 1), label, img_fn)\n",
        "          if (i % 10 == 0 and j % 10 == 0):\n",
        "            print(\"writing image to {}\".format(img_output_fn1))\n",
        "          cv2.imwrite(img_output_fn1, image0)\n",
        "          cv2.imwrite(img_output_fn2, image1)\n",
        "        idx = idx+1\n",
        "      \n",
        "      except ValueError:\n",
        "        print(\"error on window\")"
      ],
      "execution_count": 0,
      "outputs": []
    },
    {
      "cell_type": "code",
      "metadata": {
        "id": "i9iZq_33tJtF",
        "colab_type": "code",
        "colab": {}
      },
      "source": [
        "for val_fn in train_data:\n",
        "  print(val_fn)\n",
        "  preprocess(val_fn, 3, is_train = True)\n",
        "  print(\"Done with one\")\n",
        "\n",
        "\n",
        "for val_fn in val_data:\n",
        "  preprocess(val_fn, 3, is_val = True)\n",
        "  print(\"Done with one\")"
      ],
      "execution_count": 0,
      "outputs": []
    },
    {
      "cell_type": "code",
      "metadata": {
        "id": "9iSs69C5tMUE",
        "colab_type": "code",
        "colab": {}
      },
      "source": [
        "!find data_zoom/train/z4/tumor -type f | wc -l\n",
        "!find data_zoom/train/z4/no_tumor -type f | wc -l\n",
        "!find data_zoom/train/z3/tumor -type f | wc -l\n",
        "!find data_zoom/train/z3/no_tumor -type f | wc -l\n",
        "\n",
        "!find data_zoom/val/z4/tumor -type f | wc -l\n",
        "!find data_zoom/val/z4/no_tumor -type f | wc -l\n",
        "!find data_zoom/val/z3/tumor -type f | wc -l\n",
        "!find data_zoom/val/z3/no_tumor -type f | wc -l"
      ],
      "execution_count": 0,
      "outputs": []
    },
    {
      "cell_type": "markdown",
      "metadata": {
        "id": "3n92zncsv9ZV",
        "colab_type": "text"
      },
      "source": [
        "The following was the output for above code when I ran on local\n",
        "\n",
        "\n",
        "```\n",
        "    876\n",
        "   47739\n",
        "     874\n",
        "   47739\n",
        "     181\n",
        "    9813\n",
        "     181\n",
        "    9813\n",
        "  \n",
        "```\n",
        "\n",
        "\n",
        " \n"
      ]
    },
    {
      "cell_type": "markdown",
      "metadata": {
        "id": "ccl7rG8Exnbg",
        "colab_type": "text"
      },
      "source": [
        "# Code For Undersampling Training Data"
      ]
    },
    {
      "cell_type": "code",
      "metadata": {
        "id": "rCWm_ij3yd1S",
        "colab_type": "code",
        "colab": {}
      },
      "source": [
        "LEVELS = [2, 3, 4, 5]"
      ],
      "execution_count": 0,
      "outputs": []
    },
    {
      "cell_type": "code",
      "metadata": {
        "id": "aDlRTZvsfTuD",
        "colab_type": "code",
        "outputId": "4cb0c126-c121-4d6e-c353-3be936afab9a",
        "colab": {
          "base_uri": "https://localhost:8080/",
          "height": 697
        }
      },
      "source": [
        "for level in LEVELS:\n",
        "    data = 'data'\n",
        "    train_dir = '{}/train/z{}'\n",
        "    val_dir = '{}/val/z{}'\n",
        "    train_tumor_dir = os.path.join(train_dir, 'tumor')\n",
        "    train_no_tumor_dir = os.path.join(train_dir, 'no_tumor')\n",
        "\n",
        "    num_tumor = len(os.listdir(train_tumor_dir.format(data, level)))\n",
        "    num_no_tumor = len(os.listdir(train_no_tumor_dir.format(data, level)))\n",
        "    print('\\nWorking with level: {}\\n'.format(level))\n",
        "    print('Unbalanced data:')\n",
        "    print('num tumor: ', num_tumor)\n",
        "    print('num no tumor: ', num_no_tumor)\n",
        "\n",
        "    no_tumor_undersampled = set(random.sample(os.listdir(train_no_tumor_dir.format(data, level)), num_tumor))\n",
        "\n",
        "    all_files = set(os.listdir(train_no_tumor_dir.format(data, level)))\n",
        "    to_be_removed = all_files - no_tumor_undersampled\n",
        "    for file in to_be_removed:\n",
        "        os.remove(os.path.join(train_no_tumor_dir.format(data, level), file))\n",
        "\n",
        "    print('\\nAfter undersampling:')\n",
        "    print('num tumor: ', len(os.listdir(train_tumor_dir.format(data, level))))\n",
        "    print('num no tumor: ', len(os.listdir(train_no_tumor_dir.format(data, level))))"
      ],
      "execution_count": 0,
      "outputs": [
        {
          "output_type": "stream",
          "text": [
            "\n",
            "Working with level: 2\n",
            "\n",
            "Unbalanced data:\n",
            "('num tumor: ', 476)\n",
            "('num no tumor: ', 477)\n",
            "\n",
            "After undersampling:\n",
            "('num tumor: ', 476)\n",
            "('num no tumor: ', 477)\n",
            "\n",
            "Working with level: 3\n",
            "\n",
            "Unbalanced data:\n",
            "('num tumor: ', 585)\n",
            "('num no tumor: ', 585)\n",
            "\n",
            "After undersampling:\n",
            "('num tumor: ', 585)\n",
            "('num no tumor: ', 585)\n",
            "\n",
            "Working with level: 4\n",
            "\n",
            "Unbalanced data:\n",
            "('num tumor: ', 202)\n",
            "('num no tumor: ', 202)\n",
            "\n",
            "After undersampling:\n",
            "('num tumor: ', 202)\n",
            "('num no tumor: ', 202)\n",
            "\n",
            "Working with level: 5\n",
            "\n",
            "Unbalanced data:\n",
            "('num tumor: ', 67)\n",
            "('num no tumor: ', 67)\n",
            "\n",
            "After undersampling:\n",
            "('num tumor: ', 67)\n",
            "('num no tumor: ', 67)\n"
          ],
          "name": "stdout"
        }
      ]
    },
    {
      "cell_type": "code",
      "metadata": {
        "id": "kL7QdAR1zVFi",
        "colab_type": "code",
        "colab": {}
      },
      "source": [
        ""
      ],
      "execution_count": 0,
      "outputs": []
    }
  ]
}
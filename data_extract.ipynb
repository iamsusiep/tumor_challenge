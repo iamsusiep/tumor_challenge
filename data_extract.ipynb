{
  "nbformat": 4,
  "nbformat_minor": 0,
  "metadata": {
    "colab": {
      "name": "data_extract.ipynb",
      "version": "0.3.2",
      "provenance": [],
      "collapsed_sections": [],
      "toc_visible": true,
      "include_colab_link": true
    },
    "kernelspec": {
      "name": "python2",
      "display_name": "Python 2"
    },
    "accelerator": "GPU"
  },
  "cells": [
    {
      "cell_type": "markdown",
      "metadata": {
        "id": "view-in-github",
        "colab_type": "text"
      },
      "source": [
        "<a href=\"https://colab.research.google.com/github/iamsusiep/tumor_challenge/blob/master/data_extract.ipynb\" target=\"_parent\"><img src=\"https://colab.research.google.com/assets/colab-badge.svg\" alt=\"Open In Colab\"/></a>"
      ]
    },
    {
      "cell_type": "code",
      "metadata": {
        "colab_type": "code",
        "id": "HJ_T09jo5rxS",
        "outputId": "01cd2016-b252-4526-d2d9-20bd210d11c2",
        "colab": {
          "base_uri": "https://localhost:8080/",
          "height": 204
        }
      },
      "source": [
        " # Install the OpenSlide C library and Python bindings\n",
        "!apt-get install openslide-tools\n",
        "!pip install openslide-python"
      ],
      "execution_count": 0,
      "outputs": [
        {
          "output_type": "stream",
          "text": [
            "Reading package lists... Done\n",
            "Building dependency tree       \n",
            "Reading state information... Done\n",
            "openslide-tools is already the newest version (3.4.1+dfsg-2).\n",
            "The following package was automatically installed and is no longer required:\n",
            "  libnvidia-common-410\n",
            "Use 'apt autoremove' to remove it.\n",
            "0 upgraded, 0 newly installed, 0 to remove and 11 not upgraded.\n",
            "Requirement already satisfied: openslide-python in /usr/local/lib/python2.7/dist-packages (1.1.1)\n",
            "Requirement already satisfied: Pillow in /usr/local/lib/python2.7/dist-packages (from openslide-python) (4.3.0)\n",
            "Requirement already satisfied: olefile in /usr/local/lib/python2.7/dist-packages (from Pillow->openslide-python) (0.46)\n"
          ],
          "name": "stdout"
        }
      ]
    },
    {
      "cell_type": "code",
      "metadata": {
        "colab_type": "code",
        "id": "Ws_fS_f13WUd",
        "colab": {}
      },
      "source": [
        "%matplotlib inline\n",
        "import matplotlib.pyplot as plt\n",
        "import numpy as np\n",
        "from openslide import open_slide, __library_version__ as openslide_version\n",
        "import os\n",
        "from PIL import Image\n",
        "from skimage.color import rgb2gray"
      ],
      "execution_count": 0,
      "outputs": []
    },
    {
      "cell_type": "code",
      "metadata": {
        "colab_type": "code",
        "id": "_pUuXanl3WUg",
        "outputId": "64b94155-7bab-418f-ea05-f3358bf5ee1a",
        "colab": {
          "base_uri": "https://localhost:8080/",
          "height": 215
        }
      },
      "source": [
        "from google.colab import drive\n",
        "import os\n",
        "\n",
        "drive.mount('/content/gdrive')\n",
        "os.chdir('gdrive/My Drive/Colab Notebooks')"
      ],
      "execution_count": 0,
      "outputs": [
        {
          "output_type": "stream",
          "text": [
            "Drive already mounted at /content/gdrive; to attempt to forcibly remount, call drive.mount(\"/content/gdrive\", force_remount=True).\n"
          ],
          "name": "stdout"
        },
        {
          "output_type": "error",
          "ename": "OSError",
          "evalue": "ignored",
          "traceback": [
            "\u001b[0;31m\u001b[0m",
            "\u001b[0;31mOSError\u001b[0mTraceback (most recent call last)",
            "\u001b[0;32m<ipython-input-20-f7634b1c99b6>\u001b[0m in \u001b[0;36m<module>\u001b[0;34m()\u001b[0m\n\u001b[1;32m      3\u001b[0m \u001b[0;34m\u001b[0m\u001b[0m\n\u001b[1;32m      4\u001b[0m \u001b[0mdrive\u001b[0m\u001b[0;34m.\u001b[0m\u001b[0mmount\u001b[0m\u001b[0;34m(\u001b[0m\u001b[0;34m'/content/gdrive'\u001b[0m\u001b[0;34m)\u001b[0m\u001b[0;34m\u001b[0m\u001b[0m\n\u001b[0;32m----> 5\u001b[0;31m \u001b[0mos\u001b[0m\u001b[0;34m.\u001b[0m\u001b[0mchdir\u001b[0m\u001b[0;34m(\u001b[0m\u001b[0;34m'gdrive/My Drive/Colab Notebooks'\u001b[0m\u001b[0;34m)\u001b[0m\u001b[0;34m\u001b[0m\u001b[0m\n\u001b[0m",
            "\u001b[0;31mOSError\u001b[0m: [Errno 2] No such file or directory: 'gdrive/My Drive/Colab Notebooks'"
          ]
        }
      ]
    },
    {
      "cell_type": "markdown",
      "metadata": {
        "colab_type": "text",
        "id": "Bzpo8de587ju"
      },
      "source": [
        "#Processing Data\n",
        "\n",
        "\n"
      ]
    },
    {
      "cell_type": "markdown",
      "metadata": {
        "id": "kxDF0CN0jzyU",
        "colab_type": "text"
      },
      "source": [
        "\n",
        "## Splitting Slides into Train/Validation/Testing"
      ]
    },
    {
      "cell_type": "code",
      "metadata": {
        "id": "20nlg9j8heI_",
        "colab_type": "code",
        "outputId": "09abffd7-55d3-4d54-95b4-2ecded4c1caf",
        "colab": {
          "base_uri": "https://localhost:8080/",
          "height": 54
        }
      },
      "source": [
        "from os import listdir\n",
        "from os.path import isfile, join\n",
        "import os.path\n",
        "\n",
        "images = []\n",
        "mypath = \"./slides\"\n",
        "\n",
        "onlyfiles = [f for f in listdir(mypath) if isfile(join(mypath, f))]\n",
        "for fn in onlyfiles:\n",
        "  if (os.path.splitext(fn)[0] not in images) and ('mask' not in os.path.splitext(fn)[0]):\n",
        "    images.append(os.path.splitext(fn)[0])\n",
        "\n",
        "# remove unusual tumor images\n",
        "images.remove(\"tumor_038\")\n",
        "images.remove(\"tumor_038 (1)\")\n",
        "images.remove(\"tumor_099\")\n",
        "print(images)\n"
      ],
      "execution_count": 0,
      "outputs": [
        {
          "output_type": "stream",
          "text": [
            "['tumor_091', 'tumor_001', 'tumor_002', 'tumor_005', 'tumor_012', 'tumor_016', 'tumor_059', 'tumor_075', 'tumor_023', 'tumor_057', 'tumor_035', 'tumor_019', 'tumor_081', 'tumor_084', 'tumor_094', 'tumor_110', 'tumor_096', 'tumor_101', 'tumor_031', 'tumor_064', 'tumor_078']\n"
          ],
          "name": "stdout"
        }
      ]
    },
    {
      "cell_type": "code",
      "metadata": {
        "id": "FSuqos_Nh4Zy",
        "colab_type": "code",
        "outputId": "df152f28-b3dc-4d2e-bf28-ddc5fe5a0fa4",
        "colab": {
          "base_uri": "https://localhost:8080/",
          "height": 34
        }
      },
      "source": [
        "print(\"Number of slides: %d\" %(len(images)))"
      ],
      "execution_count": 0,
      "outputs": [
        {
          "output_type": "stream",
          "text": [
            "Number of slides: 21\n"
          ],
          "name": "stdout"
        }
      ]
    },
    {
      "cell_type": "code",
      "metadata": {
        "id": "UTslIrWch5ok",
        "colab_type": "code",
        "outputId": "17c91fb8-ff80-4910-c332-66b0ed56051f",
        "colab": {
          "base_uri": "https://localhost:8080/",
          "height": 34
        }
      },
      "source": [
        "import random \n",
        "\n",
        "random.seed(1)\n",
        "random.shuffle(images)\n",
        "\n",
        "train_data = images[:15]\n",
        "val_data = images[15:18]\n",
        "test_data = images[18:21]\n",
        "print(\"#train: %d, #validation: %d, #test: %d\" %(len(train_data), len(val_data), len(test_data)))"
      ],
      "execution_count": 0,
      "outputs": [
        {
          "output_type": "stream",
          "text": [
            "#train: 15, #validation: 3, #test: 3\n"
          ],
          "name": "stdout"
        }
      ]
    },
    {
      "cell_type": "code",
      "metadata": {
        "colab_type": "code",
        "id": "5ssRtSx_ZAud",
        "outputId": "db3f2419-cbc3-4652-face-d3173e85e269",
        "colab": {
          "base_uri": "https://localhost:8080/",
          "height": 34
        }
      },
      "source": [
        "# create directories\n",
        "\n",
        "import os \n",
        "# !rm -rf data1/\n",
        "!rm -rf data/\n",
        "def create_level_dir(dir_name):\n",
        "  z1_dir = os.path.join(dir_name, 'z5')\n",
        "  z2_dir = os.path.join(dir_name, 'z4')\n",
        "  z3_dir = os.path.join(dir_name, 'z3')\n",
        "  z4_dir = os.path.join(dir_name, 'z2')\n",
        "  os.mkdir(z1_dir)\n",
        "  os.mkdir(z2_dir)\n",
        "  os.mkdir(z3_dir)\n",
        "  os.mkdir(z4_dir)\n",
        "  return z1_dir, z2_dir, z3_dir, z4_dir\n",
        "  \n",
        "def label_directory(dir_name):\n",
        "  z1_dir, z2_dir, z3_dir, z4_dir = create_level_dir(dir_name)\n",
        "  os.mkdir(os.path.join(z1_dir, 'tumor'))\n",
        "  os.mkdir(os.path.join(z1_dir, 'no_tumor'))\n",
        "  os.mkdir(os.path.join(z2_dir, 'tumor'))\n",
        "  os.mkdir(os.path.join(z2_dir, 'no_tumor'))\n",
        "  os.mkdir(os.path.join(z3_dir, 'tumor'))\n",
        "  os.mkdir(os.path.join(z3_dir, 'no_tumor'))\n",
        "  os.mkdir(os.path.join(z4_dir, 'tumor'))\n",
        "  os.mkdir(os.path.join(z4_dir, 'no_tumor'))\n",
        "  \n",
        "# base_dir = os.getcwd()\n",
        "# img_num = slide_path.split('_')[1].strip(\".tif\")\n",
        "\n",
        "base_dir = 'data/'\n",
        "train_dir = os.path.join(base_dir, 'train')\n",
        "val_dir =  os.path.join(base_dir, 'val') \n",
        "test_dir = os.path.join(base_dir, 'test') \n",
        "\n",
        "if not os.path.exists(base_dir):\n",
        "  os.mkdir(base_dir)\n",
        "  \n",
        "if not os.path.exists(train_dir):\n",
        "  os.mkdir(train_dir)\n",
        "  label_directory(train_dir)\n",
        "\n",
        "if not os.path.exists(val_dir):\n",
        "  os.mkdir(val_dir)\n",
        "  label_directory(val_dir)\n",
        "\n",
        "if not os.path.exists(test_dir):\n",
        "  os.mkdir(test_dir)\n",
        "  create_level_dir(test_dir)\n",
        "  \n",
        "print('train_dir: %s, test_dir: %s, val_dir: %s ' %(train_dir, test_dir, val_dir))"
      ],
      "execution_count": 0,
      "outputs": [
        {
          "output_type": "stream",
          "text": [
            "train_dir: data/train, test_dir: data/test, val_dir: data/val \n"
          ],
          "name": "stdout"
        }
      ]
    },
    {
      "cell_type": "markdown",
      "metadata": {
        "colab_type": "text",
        "id": "ponwPynBOZsk"
      },
      "source": [
        "## Classifying the Data by Labels"
      ]
    },
    {
      "cell_type": "code",
      "metadata": {
        "colab_type": "code",
        "id": "HpW9-YQeOds5",
        "colab": {}
      },
      "source": [
        "def read_slide(slide, x, y, level, width, height, as_float=False, mask=False):\n",
        "    im = slide.read_region((x,y), level, (width, height))\n",
        "    im = im.convert('RGB') # drop the alpha channel\n",
        "    if as_float:\n",
        "        im = np.asarray(im, dtype=np.float32)\n",
        "    else:\n",
        "        im = np.asarray(im)\n",
        "    assert im.shape == (height, width, 3)\n",
        "    return (im if not mask else im[:, :, 0])\n",
        "\n",
        "# overlaying a mask over image\n",
        "def apply_mask(im, mask):\n",
        "    masked =np.zeros_like(im)\n",
        "    for x,y in mask: \n",
        "      masked[x][y] = 1\n",
        "    return masked\n",
        "  \n",
        "# search for grey regions\n",
        "def find_tissue_pixels(image, intensity=0.8):\n",
        "    im_gray = rgb2gray(image)\n",
        "    assert im_gray.shape == (image.shape[0], image.shape[1])\n",
        "    indices = np.where(im_gray <= intensity)\n",
        "    return zip(indices[0], indices[1])"
      ],
      "execution_count": 0,
      "outputs": []
    },
    {
      "cell_type": "code",
      "metadata": {
        "colab_type": "code",
        "id": "HfjbyB8cOuD6",
        "colab": {}
      },
      "source": [
        "# mypath = '/Users/sujipark/documents/slides'\n",
        "\"\"\"\n",
        "12224\n",
        "27648\n",
        "and \n",
        "24448\n",
        "55296\n",
        "\"\"\"\n",
        "def get_images_masks(im_name, level_num, x_ = 0, y_ = 0, partition = False):\n",
        "  slide_path = os.path.join(mypath, im_name)+ \".tif\"\n",
        "  mask_path = os.path.join(mypath, im_name) + \"_mask.tif\"\n",
        "  slide = open_slide(slide_path)\n",
        "  if partition is True:\n",
        "    slide_image = read_slide(slide, \n",
        "                         x=x_, \n",
        "                         y=y_, \n",
        "                         level=level_num, \n",
        "                         width=299, \n",
        "                         height=299)\n",
        "    tumor_mask = open_slide(mask_path)\n",
        "    mask_image = read_slide(tumor_mask, \n",
        "                         x=x_, \n",
        "                         y=y_, \n",
        "                         level=level_num, \n",
        "                         width=299, \n",
        "                         height=299,\n",
        "                         mask = True)\n",
        "  else:\n",
        "    slide_image = read_slide(slide, \n",
        "                         x=x_, \n",
        "                         y=y_, \n",
        "                         level=level_num, \n",
        "                         width=int(slide.level_dimensions[level_num][0]), \n",
        "                         height=int(slide.level_dimensions[level_num][1]))\n",
        "    tumor_mask = open_slide(mask_path)\n",
        "    mask_image = read_slide(tumor_mask, \n",
        "                         x=x_, \n",
        "                         y=y_, \n",
        "                         level=level_num, \n",
        "                         width=int(slide.level_dimensions[level_num][0]), \n",
        "                         height=int(slide.level_dimensions[level_num][1]),\n",
        "                         mask = True)\n",
        "  tissue_pixels = list(find_tissue_pixels(slide_image))\n",
        "  \n",
        "  percent_tissue = len(tissue_pixels) / float(slide_image.shape[0] * slide_image.shape[0]) * 100\n",
        "#   print (\"%d tissue_pixels pixels  (%.1f percent of the image)\" % (len(tissue_pixels), percent_tissue)) \n",
        "  tissue_regions = apply_mask(slide_image, tissue_pixels)\n",
        "#   plt.imshow(tissue_regions)\n",
        "  return slide_image, mask_image, tissue_regions"
      ],
      "execution_count": 0,
      "outputs": []
    },
    {
      "cell_type": "code",
      "metadata": {
        "id": "VN3Ts51RAfWt",
        "colab_type": "code",
        "colab": {}
      },
      "source": [
        "import math\n",
        "import cv2\n",
        "def preprocess(im_name, level, is_train = False, is_val = False, is_test = False):\n",
        "  # Process images of lower zoom level, which have memory issues if try to process whole slice\n",
        "  slide_path = os.path.join(mypath, im_name)+ \".tif\"\n",
        "  mask_path = os.path.join(mypath, im_name) + \"_mask.tif\"\n",
        "  slide = open_slide(slide_path)\n",
        "  tumor_mask = open_slide(mask_path)\n",
        "  x_dim = (slide.level_dimensions[level][0]) #15360\n",
        "  y_dim = (slide.level_dimensions[level][1]) #13440\n",
        "  \n",
        "  x_num= int(math.ceil(x_dim/ 299))\n",
        "  y_num = int(math.ceil(y_dim/299))\n",
        "#   print('x_dim, y_dim, x_num, y_num: ', x_dim, y_dim, x_num, y_num)\n",
        "  idx = 0\n",
        "  for i in range(x_num):\n",
        "    lower_x = i*299 * (2**level)\n",
        "    for j in range(y_num):\n",
        "      lower_y = j * 299 *(2**level)\n",
        "#       print('lower_x, lower_y:', (lower_x, lower_y))\n",
        "      \n",
        "      img_window = read_slide(slide, \n",
        "                     x=lower_x, \n",
        "                     y=lower_y, \n",
        "                     level=level, \n",
        "                     width=299, \n",
        "                     height=299)\n",
        "      mask_window = read_slide(tumor_mask, \n",
        "                     x=lower_x, \n",
        "                     y=lower_y, \n",
        "                     level=level, \n",
        "                     width=299, \n",
        "                     height=299,\n",
        "                     mask = True)\n",
        "\n",
        "      tissue_pixels = find_tissue_pixels(img_window)\n",
        "      percent_tissue = len(tissue_pixels) / float(img_window.shape[0] * img_window.shape[0])\n",
        "#       print(percent_tissue)\n",
        "#       print(type(tissue_pixels))\n",
        "      tissue_region = apply_mask(img_window, tissue_pixels)\n",
        "      tissue_threshold = .3\n",
        "\n",
        "      if is_test:\n",
        "        if percent_tissue> tissue_threshold:\n",
        "          try:\n",
        "            img_fn = 'level_'+str(level) +'_' + str(idx)\n",
        "            img_output_fn = \"data/test/z\"+ str(level)+\"/\"+ img_fn + \".jpg\" \n",
        "            cv2.imwrite(img_output_fn, img_window)\n",
        "            print(img_output_fn)\n",
        "          except:\n",
        "            pass\n",
        "      else:\n",
        "        if is_train:\n",
        "          dir_route = 'train'\n",
        "        if is_val:\n",
        "          dir_route = 'val'\n",
        "#         print('percent_tissue:', percent_tissue)\n",
        "        if percent_tissue> tissue_threshold:\n",
        "          img_fn = 'level_'+str(level) +'_' + str(idx)\n",
        "          if np.max(mask_window) > 0:\n",
        "            img_output_fn = \"data/\" + dir_route + \"/z\" + str(level)+\"/tumor/\" + img_fn + \".jpg\" \n",
        "          else:\n",
        "            img_output_fn= \"data/\"+ dir_route + \"/z\" + str(level)+\"/no_tumor/\" + img_fn + \".jpg\"\n",
        "          print(img_output_fn)\n",
        "          cv2.imwrite(img_output_fn, img_window)\n",
        "      idx = idx+1"
      ],
      "execution_count": 0,
      "outputs": []
    },
    {
      "cell_type": "code",
      "metadata": {
        "id": "vdiV_F3HS2YJ",
        "colab_type": "code",
        "colab": {}
      },
      "source": [
        "levels = [5, 4, 3, 2]\n",
        "\n",
        "for level in levels:\n",
        "  for val_fn in train_data:\n",
        "    preprocess(val_fn, level, is_train = True)\n",
        "  print(\"Done with zoom %d\" %level)\n",
        "  \n",
        "for level in levels:\n",
        "  for val_fn in val_data:\n",
        "    preprocess(val_fn, level, is_val = True)\n",
        "  print(\"Done with zoom %d\" %level)\n",
        "  \n",
        "for level in levels:\n",
        "  for val_fn in test_data:\n",
        "    preprocess(val_fn, level, is_test = True)\n",
        "  print(\"Done with zoom %d\" %level)"
      ],
      "execution_count": 0,
      "outputs": []
    },
    {
      "cell_type": "markdown",
      "metadata": {
        "id": "nKybpc4PjoSP",
        "colab_type": "text"
      },
      "source": [
        "## Count of Train/Test/Val Images"
      ]
    },
    {
      "cell_type": "code",
      "metadata": {
        "colab_type": "code",
        "id": "C433-cgLD_pY",
        "outputId": "452e1b10-03c1-493f-c077-ba1ca13bac82",
        "colab": {
          "base_uri": "https://localhost:8080/",
          "height": 357
        }
      },
      "source": [
        "!find data/train/z5/tumor -type f | wc -l\n",
        "!find data/train/z5/no_tumor -type f | wc -l\n",
        "!find data/train/z4/tumor -type f | wc -l\n",
        "!find data/train/z4/no_tumor -type f | wc -l\n",
        "!find data/train/z3/tumor -type f | wc -l\n",
        "!find data/train/z3/no_tumor -type f | wc -l\n",
        "!find data/train/z2/tumor -type f | wc -l\n",
        "!find data/train/z2/no_tumor -type f | wc -l\n",
        "\n",
        "!find data/val/z5/tumor -type f | wc -l\n",
        "!find data/val/z5/no_tumor -type f | wc -l\n",
        "!find data/val/z4/tumor -type f | wc -l\n",
        "!find data/val/z4/no_tumor -type f | wc -l\n",
        "!find data/val/z3/tumor -type f | wc -l\n",
        "!find data/val/z3/no_tumor -type f | wc -l\n",
        "!find data/val/z2/tumor -type f | wc -l\n",
        "!find data/val/z2/no_tumor -type f | wc -l\n",
        "\n",
        "!find data/test/z5 -type f | wc -l\n",
        "!find data/test/z4 -type f | wc -l\n",
        "!find data/test/z3 -type f | wc -l\n",
        "!find data/test/z2 -type f | wc -l"
      ],
      "execution_count": 0,
      "outputs": [
        {
          "output_type": "stream",
          "text": [
            "74\n",
            "90\n",
            "227\n",
            "401\n",
            "703\n",
            "1605\n",
            "2376\n",
            "6770\n",
            "9\n",
            "37\n",
            "19\n",
            "141\n",
            "40\n",
            "541\n",
            "104\n",
            "2121\n",
            "60\n",
            "218\n",
            "828\n",
            "3149\n"
          ],
          "name": "stdout"
        }
      ]
    },
    {
      "cell_type": "code",
      "metadata": {
        "id": "Zk2YVPBZCTMR",
        "colab_type": "code",
        "colab": {}
      },
      "source": [
        ""
      ],
      "execution_count": 0,
      "outputs": []
    }
  ]
}